{
 "cells": [
  {
   "cell_type": "code",
   "execution_count": 6,
   "metadata": {},
   "outputs": [],
   "source": [
    "import logging\n",
    "import os\n",
    "logger = logging.getLogger(__name__)\n",
    "from datetime import datetime\n"
   ]
  },
  {
   "cell_type": "code",
   "execution_count": 1,
   "metadata": {},
   "outputs": [
    {
     "name": "stdout",
     "output_type": "stream",
     "text": [
      "Log directory created at: d:\\Datascience\\fullstackdsproject\\notebooks\\..\\logs\n",
      "Log file created at: d:\\Datascience\\fullstackdsproject\\notebooks\\..\\logs\\26-03-2025 07-23-28-PM.log\n"
     ]
    },
    {
     "data": {
      "text/plain": [
       "'d:\\\\Datascience\\\\fullstackdsproject\\\\notebooks\\\\..\\\\logs\\\\26-03-2025 07-23-28-PM.log'"
      ]
     },
     "execution_count": 1,
     "metadata": {},
     "output_type": "execute_result"
    }
   ],
   "source": [
    "import os\n",
    "import logging\n",
    "from datetime import datetime\n",
    "\n",
    "class Log:\n",
    "    def __init__(self, log_dir='..\\logs'):\n",
    "        # Create log directory path\n",
    "        self.log_path = os.path.join(os.getcwd(), log_dir)\n",
    "\n",
    "        # Create the directory if it doesn't exist\n",
    "        os.makedirs(self.log_path, exist_ok=True)\n",
    "\n",
    "        print(f\"Log directory created at: {self.log_path}\")\n",
    "\n",
    "    def log_file(self):\n",
    "        # Generate log file name with timestamp\n",
    "        log_file = f\"{datetime.now().strftime('%d-%m-%Y %I-%M-%S-%p')}.log\"\n",
    "\n",
    "        # Create the full log file path\n",
    "        log_file_path = os.path.join(self.log_path, log_file)\n",
    "\n",
    "        # Write initial log entry\n",
    "        with open(log_file_path, \"w\") as f:\n",
    "            f.write(\"Log file created successfully!\\n\")\n",
    "\n",
    "        print(f\"Log file created at: {log_file_path}\")\n",
    "\n",
    "        # Configure logging\n",
    "        logging.basicConfig(level=logging.INFO,\n",
    "                            filename=log_file_path,\n",
    "                            format=\"[%(asctime)s] %(lineno)d %(name)s - %(levelname)s - %(message)s\")\n",
    "\n",
    "        return log_file_path  # Returning log file path in case needed\n",
    "\n",
    "# Usage\n",
    "log_instance = Log()\n",
    "log_instance.log_file()\n"
   ]
  },
  {
   "cell_type": "code",
   "execution_count": 3,
   "metadata": {},
   "outputs": [],
   "source": [
    "path  = '..\\logs'\n",
    "\n",
    "log_file = f\"{datetime.now().strftime('%d-%m-%Y %I-%M-%S %p')}.log\"\n",
    "# log_file\n",
    "\n",
    "log_file_path = os.path.join(path, log_file)\n",
    "\n",
    "# with open(log_file_path, \"w\") as f:\n",
    "#     f.write(\"Log file created successfully!\\n\")\n",
    "\n",
    "# print(f\"Log file created at: {log_file_path}\")"
   ]
  },
  {
   "cell_type": "code",
   "execution_count": 4,
   "metadata": {},
   "outputs": [],
   "source": [
    "\n",
    "logging.basicConfig(level=logging.INFO, \n",
    "                    filename=log_file_path,\n",
    "                    format=\"[%(asctime)s] %(lineno)d %(name)s - %(levelname)s - %(message)s\")\n",
    "\n"
   ]
  },
  {
   "cell_type": "code",
   "execution_count": 54,
   "metadata": {},
   "outputs": [],
   "source": [
    "import sys\n",
    "import traceback\n",
    "\n",
    "class CustomException(Exception):\n",
    "    def __init__(self, errormessage):\n",
    "        self.errormessage = errormessage\n",
    "        self.error_trace = traceback.format_exc()  # Captures traceback as a string\n",
    "\n",
    "    def __str__(self):\n",
    "        # return f\"Error occurred:\\n{self.error_trace}\\n Error message: {self.errormessage}\" \n",
    "        return f\"Error occurred:\\n{self.error_trace[41:]}\\n Error message: {self.errormessage}\" \n",
    "\n",
    "\n",
    "if __name__ == \"__main__\": # script is imported into another module, the code inside if __name__ == \"__main__\": will not run automatically.\n",
    "    try:\n",
    "        # a = 9 / 0  # This will raise ZeroDivisionError\n",
    "        pass\n",
    "    except Exception as e:\n",
    "        raise CustomException(e)\n",
    "\n"
   ]
  },
  {
   "cell_type": "code",
   "execution_count": 55,
   "metadata": {},
   "outputs": [
    {
     "ename": "CustomException",
     "evalue": "Error occurred:\n \"C:\\Users\\shalman\\AppData\\Local\\Temp\\ipykernel_25292\\3278897370.py\", line 8, in <module>\n    raise ValueError(\"Data length mismatch error!\")  # Example error\nValueError: Data length mismatch error!\n\n Error message: Data length mismatch error!",
     "output_type": "error",
     "traceback": [
      "\u001b[1;31m---------------------------------------------------------------------------\u001b[0m",
      "\u001b[1;31mValueError\u001b[0m                                Traceback (most recent call last)",
      "Cell \u001b[1;32mIn[55], line 8\u001b[0m\n\u001b[0;32m      7\u001b[0m     \u001b[38;5;28;01mif\u001b[39;00m \u001b[38;5;28mlen\u001b[39m(data) \u001b[38;5;241m!=\u001b[39m \u001b[38;5;241m5\u001b[39m:\n\u001b[1;32m----> 8\u001b[0m         \u001b[38;5;28;01mraise\u001b[39;00m \u001b[38;5;167;01mValueError\u001b[39;00m(\u001b[38;5;124m\"\u001b[39m\u001b[38;5;124mData length mismatch error!\u001b[39m\u001b[38;5;124m\"\u001b[39m)  \u001b[38;5;66;03m# Example error\u001b[39;00m\n\u001b[0;32m     10\u001b[0m \u001b[38;5;28;01mexcept\u001b[39;00m \u001b[38;5;167;01mException\u001b[39;00m \u001b[38;5;28;01mas\u001b[39;00m e:\n",
      "\u001b[1;31mValueError\u001b[0m: Data length mismatch error!",
      "\nDuring handling of the above exception, another exception occurred:\n",
      "\u001b[1;31mCustomException\u001b[0m                           Traceback (most recent call last)",
      "Cell \u001b[1;32mIn[55], line 11\u001b[0m\n\u001b[0;32m      8\u001b[0m         \u001b[38;5;28;01mraise\u001b[39;00m \u001b[38;5;167;01mValueError\u001b[39;00m(\u001b[38;5;124m\"\u001b[39m\u001b[38;5;124mData length mismatch error!\u001b[39m\u001b[38;5;124m\"\u001b[39m)  \u001b[38;5;66;03m# Example error\u001b[39;00m\n\u001b[0;32m     10\u001b[0m \u001b[38;5;28;01mexcept\u001b[39;00m \u001b[38;5;167;01mException\u001b[39;00m \u001b[38;5;28;01mas\u001b[39;00m e:\n\u001b[1;32m---> 11\u001b[0m     \u001b[38;5;28;01mraise\u001b[39;00m CustomException(e)\n",
      "\u001b[1;31mCustomException\u001b[0m: Error occurred:\n \"C:\\Users\\shalman\\AppData\\Local\\Temp\\ipykernel_25292\\3278897370.py\", line 8, in <module>\n    raise ValueError(\"Data length mismatch error!\")  # Example error\nValueError: Data length mismatch error!\n\n Error message: Data length mismatch error!"
     ]
    }
   ],
   "source": [
    "# use in another python file \n",
    "# from CustomException import CustomException  # Import the class\n",
    "\n",
    "try:\n",
    "    # Simulating a data length mismatch error\n",
    "    data = [1, 2, 3]\n",
    "    if len(data) != 5:\n",
    "        raise ValueError(\"Data length mismatch error!\")  # Example error\n",
    "    \n",
    "except Exception as e:\n",
    "    raise CustomException(e)"
   ]
  },
  {
   "cell_type": "code",
   "execution_count": null,
   "metadata": {},
   "outputs": [],
   "source": []
  }
 ],
 "metadata": {
  "kernelspec": {
   "display_name": "venv",
   "language": "python",
   "name": "python3"
  },
  "language_info": {
   "codemirror_mode": {
    "name": "ipython",
    "version": 3
   },
   "file_extension": ".py",
   "mimetype": "text/x-python",
   "name": "python",
   "nbconvert_exporter": "python",
   "pygments_lexer": "ipython3",
   "version": "3.9.0"
  }
 },
 "nbformat": 4,
 "nbformat_minor": 2
}
